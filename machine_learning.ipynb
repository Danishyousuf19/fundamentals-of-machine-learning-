{
 "cells": [
  {
   "cell_type": "code",
   "execution_count": 1,
   "id": "74299f86",
   "metadata": {},
   "outputs": [],
   "source": [
    "# required libraries\n",
    "import pandas\n",
    "import csv\n",
    "import numpy\n"
   ]
  },
  {
   "cell_type": "code",
   "execution_count": 5,
   "id": "ad34f4f1",
   "metadata": {},
   "outputs": [
    {
     "name": "stdout",
     "output_type": "stream",
     "text": [
      "(150, 4)\n",
      "['sepal.length', 'sepal.width', 'petal.length', 'petal.width']\n",
      "[[5.1 3.5 1.4 0.2]\n",
      " [4.9 3.  1.4 0.2]\n",
      " [4.7 3.2 1.3 0.2]]\n"
     ]
    }
   ],
   "source": [
    "# loading data using csv library using iris dataset\n",
    "import numpy as np\n",
    "path =r\"C:\\Users\\DELL\\Downloads\\INTERN\\IRIS.csv\"\n",
    "with open(path,'r') as f:\n",
    "    reader =csv.reader(f,delimiter=',')\n",
    "    headers=next(reader)\n",
    "    data=list(reader)\n",
    "    data=np.array(data).astype(float)\n",
    "print(data.shape)\n",
    "print(headers)\n",
    "print(data[:3])"
   ]
  },
  {
   "cell_type": "code",
   "execution_count": 7,
   "id": "0514b7b4",
   "metadata": {},
   "outputs": [
    {
     "name": "stdout",
     "output_type": "stream",
     "text": [
      "(768, 9)\n",
      "[[  6.    148.     72.     35.      0.     33.6     0.627  50.      1.   ]\n",
      " [  1.     85.     66.     29.      0.     26.6     0.351  31.      0.   ]\n",
      " [  8.    183.     64.      0.      0.     23.3     0.672  32.      1.   ]]\n"
     ]
    }
   ],
   "source": [
    "# loading data with csv library using dibeties dataset\n",
    "path=r\"C:\\Users\\DELL\\Downloads\\INTERN\\pima-indians-diabetes.csv\"\n",
    "with open(path,'r') as f:\n",
    "    reader=csv.reader(f,delimiter=',')\n",
    "    data=list(reader)\n",
    "    data=np.array(data).astype(float)\n",
    "print(data.shape)\n",
    "print(data[:3])"
   ]
  },
  {
   "cell_type": "code",
   "execution_count": 8,
   "id": "1d7610ae",
   "metadata": {},
   "outputs": [
    {
     "name": "stdout",
     "output_type": "stream",
     "text": [
      "(768, 9)\n",
      "[[  6.    148.     72.     35.      0.     33.6     0.627  50.      1.   ]\n",
      " [  1.     85.     66.     29.      0.     26.6     0.351  31.      0.   ]\n",
      " [  8.    183.     64.      0.      0.     23.3     0.672  32.      1.   ]]\n"
     ]
    }
   ],
   "source": [
    "# loading data using numpy library using diabeties dataset\n",
    "from numpy import loadtxt\n",
    "path =r\"C:\\Users\\DELL\\Downloads\\INTERN\\pima-indians-diabetes.csv\"\n",
    "datapath =open(path,'r')\n",
    "data = loadtxt(datapath,delimiter =',')\n",
    "print(data.shape)\n",
    "print(data[:3])"
   ]
  },
  {
   "cell_type": "code",
   "execution_count": 9,
   "id": "a1d29c99",
   "metadata": {},
   "outputs": [
    {
     "name": "stdout",
     "output_type": "stream",
     "text": [
      "(150, 4)\n",
      "['sepal.length' 'sepal.width' 'petal.length' 'petal.width']\n",
      "[[5.1 3.5 1.4 0.2]\n",
      " [4.9 3.  1.4 0.2]\n",
      " [4.7 3.2 1.3 0.2]]\n"
     ]
    }
   ],
   "source": [
    "# loading data using numpy library using iris dataset\n",
    "import numpy as np\n",
    "data =  np.genfromtxt(r\"C:\\Users\\DELL\\Downloads\\INTERN\\IRIS.csv\" , delimiter =',',skip_header=1)\n",
    "header = np.genfromtxt(r\"C:\\Users\\DELL\\Downloads\\INTERN\\IRIS.csv\",delimiter =',',dtype='str',max_rows=1)   \n",
    "print(data.shape)\n",
    "print(header)\n",
    "print(data[:3])"
   ]
  },
  {
   "cell_type": "code",
   "execution_count": 13,
   "id": "86343921",
   "metadata": {},
   "outputs": [
    {
     "name": "stdout",
     "output_type": "stream",
     "text": [
      "(150, 4)\n",
      "   sepal.length  sepal.width  petal.length  petal.width\n",
      "0           5.1          3.5           1.4          0.2\n",
      "1           4.9          3.0           1.4          0.2\n",
      "2           4.7          3.2           1.3          0.2\n",
      "   sepal.length  sepal.width  petal.length  petal.width\n",
      "0           5.1          3.5           1.4          0.2\n",
      "1           4.9          3.0           1.4          0.2\n",
      "2           4.7          3.2           1.3          0.2\n",
      "3           4.6          3.1           1.5          0.2\n",
      "4           5.0          3.6           1.4          0.2\n"
     ]
    }
   ],
   "source": [
    "#loading data using pandas library using iris dataset\n",
    "from pandas import read_csv\n",
    "path=r\"C:\\Users\\DELL\\Downloads\\INTERN\\IRIS.csv\"\n",
    "data = read_csv(path)\n",
    "print(data.shape) \n",
    "print(data[:3])\n",
    "print(data.head())"
   ]
  },
  {
   "cell_type": "code",
   "execution_count": 15,
   "id": "21ac3f7c",
   "metadata": {},
   "outputs": [
    {
     "name": "stdout",
     "output_type": "stream",
     "text": [
      "(768, 9)\n",
      "   preg  plas  pres  skin  test  mass   pedi  age  class\n",
      "0     6   148    72    35     0  33.6  0.627   50      1\n",
      "1     1    85    66    29     0  26.6  0.351   31      0\n",
      "2     8   183    64     0     0  23.3  0.672   32      1\n"
     ]
    }
   ],
   "source": [
    "# loading data using pandas library using diabeties dataset\n",
    "path=r\"C:\\Users\\DELL\\Downloads\\INTERN\\pima-indians-diabetes.csv\"\n",
    "headernames = ['preg', 'plas', 'pres', 'skin', 'test', 'mass', 'pedi', 'age', 'class']\n",
    "data=read_csv(path,names=headernames)\n",
    "print(data.shape)\n",
    "print(data[:3])"
   ]
  },
  {
   "cell_type": "code",
   "execution_count": null,
   "id": "600d8d31",
   "metadata": {},
   "outputs": [],
   "source": []
  }
 ],
 "metadata": {
  "kernelspec": {
   "display_name": "Python 3 (ipykernel)",
   "language": "python",
   "name": "python3"
  },
  "language_info": {
   "codemirror_mode": {
    "name": "ipython",
    "version": 3
   },
   "file_extension": ".py",
   "mimetype": "text/x-python",
   "name": "python",
   "nbconvert_exporter": "python",
   "pygments_lexer": "ipython3",
   "version": "3.11.4"
  }
 },
 "nbformat": 4,
 "nbformat_minor": 5
}
